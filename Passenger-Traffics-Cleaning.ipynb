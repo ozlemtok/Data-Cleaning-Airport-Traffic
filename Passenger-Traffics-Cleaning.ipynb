{
 "cells": [
  {
   "cell_type": "markdown",
   "metadata": {},
   "source": [
    "# Data Cleaning Project - Passenger Traffic at Airports"
   ]
  },
  {
   "cell_type": "markdown",
   "metadata": {},
   "source": [
    "The data shows top 50 world's busiest airports by passenger traffic in 2013, 2014, and 2015. It is obtained from [here ](https://data.world/datagov-uk/2ecd2a35-fc85-4cd9-b1e7-3a8f92d76fd7)."
   ]
  },
  {
   "cell_type": "code",
   "execution_count": 59,
   "metadata": {},
   "outputs": [],
   "source": [
    "# import necessary libraries\n",
    "import numpy as np\n",
    "import pandas as pd"
   ]
  },
  {
   "cell_type": "markdown",
   "metadata": {},
   "source": [
    "There are 3 different csv file for years. They needed to be combined in a table."
   ]
  },
  {
   "cell_type": "code",
   "execution_count": 42,
   "metadata": {},
   "outputs": [
    {
     "data": {
      "text/html": [
       "<div>\n",
       "<style scoped>\n",
       "    .dataframe tbody tr th:only-of-type {\n",
       "        vertical-align: middle;\n",
       "    }\n",
       "\n",
       "    .dataframe tbody tr th {\n",
       "        vertical-align: top;\n",
       "    }\n",
       "\n",
       "    .dataframe thead th {\n",
       "        text-align: right;\n",
       "    }\n",
       "</style>\n",
       "<table border=\"1\" class=\"dataframe\">\n",
       "  <thead>\n",
       "    <tr style=\"text-align: right;\">\n",
       "      <th></th>\n",
       "      <th>Rank</th>\n",
       "      <th>Airport</th>\n",
       "      <th>Location</th>\n",
       "      <th>Code (IATA/ICAO)</th>\n",
       "      <th>Total passengers</th>\n",
       "      <th>% change</th>\n",
       "    </tr>\n",
       "  </thead>\n",
       "  <tbody>\n",
       "    <tr>\n",
       "      <th>0</th>\n",
       "      <td>1</td>\n",
       "      <td>Hartsfield–Jackson Atlanta International Airport</td>\n",
       "      <td>Atlanta, Georgia, United States</td>\n",
       "      <td>ATL/KATL</td>\n",
       "      <td>94,430,785</td>\n",
       "      <td>1%</td>\n",
       "    </tr>\n",
       "    <tr>\n",
       "      <th>1</th>\n",
       "      <td>2</td>\n",
       "      <td>Beijing Capital International Airport</td>\n",
       "      <td>Chaoyang, Beijing, China</td>\n",
       "      <td>PEK/ZBAA</td>\n",
       "      <td>83,712,355</td>\n",
       "      <td>2%</td>\n",
       "    </tr>\n",
       "    <tr>\n",
       "      <th>2</th>\n",
       "      <td>3</td>\n",
       "      <td>Heathrow Airport</td>\n",
       "      <td>Hillingdon, London, United Kingdom</td>\n",
       "      <td>LHR/EGLL</td>\n",
       "      <td>72,368,030</td>\n",
       "      <td>3%</td>\n",
       "    </tr>\n",
       "    <tr>\n",
       "      <th>3</th>\n",
       "      <td>4</td>\n",
       "      <td>Tokyo International Airport</td>\n",
       "      <td>Ōta, Tokyo, Japan</td>\n",
       "      <td>HND/RJTT</td>\n",
       "      <td>68,906,636</td>\n",
       "      <td>3%</td>\n",
       "    </tr>\n",
       "    <tr>\n",
       "      <th>4</th>\n",
       "      <td>5</td>\n",
       "      <td>O'Hare International Airport</td>\n",
       "      <td>Chicago, Illinois, United States</td>\n",
       "      <td>ORD/KORD</td>\n",
       "      <td>66,883,271</td>\n",
       "      <td>0%</td>\n",
       "    </tr>\n",
       "  </tbody>\n",
       "</table>\n",
       "</div>"
      ],
      "text/plain": [
       "   Rank                                           Airport  \\\n",
       "0     1  Hartsfield–Jackson Atlanta International Airport   \n",
       "1     2             Beijing Capital International Airport   \n",
       "2     3                                  Heathrow Airport   \n",
       "3     4                       Tokyo International Airport   \n",
       "4     5                      O'Hare International Airport   \n",
       "\n",
       "                             Location Code (IATA/ICAO)  Total passengers   \\\n",
       "0     Atlanta, Georgia, United States         ATL/KATL        94,430,785    \n",
       "1            Chaoyang, Beijing, China         PEK/ZBAA        83,712,355    \n",
       "2  Hillingdon, London, United Kingdom         LHR/EGLL        72,368,030    \n",
       "3                   Ōta, Tokyo, Japan         HND/RJTT        68,906,636    \n",
       "4    Chicago, Illinois, United States         ORD/KORD        66,883,271    \n",
       "\n",
       "  % change  \n",
       "0       1%  \n",
       "1       2%  \n",
       "2       3%  \n",
       "3       3%  \n",
       "4       0%  "
      ]
     },
     "execution_count": 42,
     "metadata": {},
     "output_type": "execute_result"
    }
   ],
   "source": [
    "# read datasets from csv files\n",
    "df_2013 = pd.read_csv('./largest-global-airports-by-passenger-traffic-2013.csv')\n",
    "df_2014 = pd.read_csv('./largest-global-airports-by-passenger-traffic-2014.csv')\n",
    "df_2015 = pd.read_csv('./largest-global-airports-by-passenger-traffic-2015.csv')\n",
    "df_2013.head()"
   ]
  },
  {
   "cell_type": "markdown",
   "metadata": {},
   "source": [
    "When all data have combined into one table, it is important to see the year of each row in order to make an analysis."
   ]
  },
  {
   "cell_type": "code",
   "execution_count": 43,
   "metadata": {},
   "outputs": [],
   "source": [
    "# add Year column to all datasets\n",
    "df_2013['Year'] = 2013\n",
    "df_2014['Year'] = 2014\n",
    "df_2015['Year'] = 2015"
   ]
  },
  {
   "cell_type": "markdown",
   "metadata": {},
   "source": [
    "In 2013 dataset, the 'Country' column is not provided while other datasets have this column. It can be added using insert(). The name of the country will be taken from location column by using rsplit()."
   ]
  },
  {
   "cell_type": "code",
   "execution_count": 44,
   "metadata": {},
   "outputs": [],
   "source": [
    "# add 'Country' column to df_2013 data ( other datasets already have that column)\n",
    "\n",
    "# insert Country column on 3rd column index, take the last string after comma from Location\n",
    "df_2013.insert(3, 'Country', df_2013['Location'].str.rsplit(',').str[-1], True) \n",
    "# leave only city name in the location column\n",
    "df_2013['Location'] = df_2013['Location'].str.rsplit(',').str[1]"
   ]
  },
  {
   "cell_type": "markdown",
   "metadata": {},
   "source": [
    "When we try to combine 3 files, we will see that resulting table have 2 columns for Total Passengers. The reason might be the difference on the names of columns. To see if there is any difference, we will check the names."
   ]
  },
  {
   "cell_type": "code",
   "execution_count": 45,
   "metadata": {},
   "outputs": [
    {
     "data": {
      "text/plain": [
       "['Rank',\n",
       " 'Airport',\n",
       " 'Location',\n",
       " 'Country',\n",
       " 'Code (IATA/ICAO)',\n",
       " ' Total passengers ',\n",
       " '% change',\n",
       " 'Year']"
      ]
     },
     "execution_count": 45,
     "metadata": {},
     "output_type": "execute_result"
    }
   ],
   "source": [
    "list(df_2013.columns)"
   ]
  },
  {
   "cell_type": "markdown",
   "metadata": {},
   "source": [
    "In 2013 dataset, there are spaces in the column name; ' Total passengers '. "
   ]
  },
  {
   "cell_type": "code",
   "execution_count": 46,
   "metadata": {},
   "outputs": [],
   "source": [
    "# delete spaces on the column name\n",
    "df_2013 = df_2013.rename(columns={' Total passengers ':'Total passengers'})"
   ]
  },
  {
   "cell_type": "markdown",
   "metadata": {},
   "source": [
    "Now, we can combine them."
   ]
  },
  {
   "cell_type": "code",
   "execution_count": 47,
   "metadata": {},
   "outputs": [
    {
     "data": {
      "text/html": [
       "<div>\n",
       "<style scoped>\n",
       "    .dataframe tbody tr th:only-of-type {\n",
       "        vertical-align: middle;\n",
       "    }\n",
       "\n",
       "    .dataframe tbody tr th {\n",
       "        vertical-align: top;\n",
       "    }\n",
       "\n",
       "    .dataframe thead th {\n",
       "        text-align: right;\n",
       "    }\n",
       "</style>\n",
       "<table border=\"1\" class=\"dataframe\">\n",
       "  <thead>\n",
       "    <tr style=\"text-align: right;\">\n",
       "      <th></th>\n",
       "      <th>Rank</th>\n",
       "      <th>Airport</th>\n",
       "      <th>Location</th>\n",
       "      <th>Country</th>\n",
       "      <th>Code (IATA/ICAO)</th>\n",
       "      <th>Total passengers</th>\n",
       "      <th>% change</th>\n",
       "      <th>Year</th>\n",
       "    </tr>\n",
       "  </thead>\n",
       "  <tbody>\n",
       "    <tr>\n",
       "      <th>0</th>\n",
       "      <td>1</td>\n",
       "      <td>Hartsfield–Jackson Atlanta International Airport</td>\n",
       "      <td>Georgia</td>\n",
       "      <td>United States</td>\n",
       "      <td>ATL/KATL</td>\n",
       "      <td>94,430,785</td>\n",
       "      <td>1%</td>\n",
       "      <td>2013</td>\n",
       "    </tr>\n",
       "    <tr>\n",
       "      <th>1</th>\n",
       "      <td>2</td>\n",
       "      <td>Beijing Capital International Airport</td>\n",
       "      <td>Beijing</td>\n",
       "      <td>China</td>\n",
       "      <td>PEK/ZBAA</td>\n",
       "      <td>83,712,355</td>\n",
       "      <td>2%</td>\n",
       "      <td>2013</td>\n",
       "    </tr>\n",
       "    <tr>\n",
       "      <th>2</th>\n",
       "      <td>3</td>\n",
       "      <td>Heathrow Airport</td>\n",
       "      <td>London</td>\n",
       "      <td>United Kingdom</td>\n",
       "      <td>LHR/EGLL</td>\n",
       "      <td>72,368,030</td>\n",
       "      <td>3%</td>\n",
       "      <td>2013</td>\n",
       "    </tr>\n",
       "    <tr>\n",
       "      <th>3</th>\n",
       "      <td>4</td>\n",
       "      <td>Tokyo International Airport</td>\n",
       "      <td>Tokyo</td>\n",
       "      <td>Japan</td>\n",
       "      <td>HND/RJTT</td>\n",
       "      <td>68,906,636</td>\n",
       "      <td>3%</td>\n",
       "      <td>2013</td>\n",
       "    </tr>\n",
       "    <tr>\n",
       "      <th>4</th>\n",
       "      <td>5</td>\n",
       "      <td>O'Hare International Airport</td>\n",
       "      <td>Illinois</td>\n",
       "      <td>United States</td>\n",
       "      <td>ORD/KORD</td>\n",
       "      <td>66,883,271</td>\n",
       "      <td>0%</td>\n",
       "      <td>2013</td>\n",
       "    </tr>\n",
       "  </tbody>\n",
       "</table>\n",
       "</div>"
      ],
      "text/plain": [
       "   Rank                                           Airport   Location  \\\n",
       "0     1  Hartsfield–Jackson Atlanta International Airport    Georgia   \n",
       "1     2             Beijing Capital International Airport    Beijing   \n",
       "2     3                                  Heathrow Airport     London   \n",
       "3     4                       Tokyo International Airport      Tokyo   \n",
       "4     5                      O'Hare International Airport   Illinois   \n",
       "\n",
       "           Country Code (IATA/ICAO) Total passengers % change  Year  \n",
       "0    United States         ATL/KATL      94,430,785        1%  2013  \n",
       "1            China         PEK/ZBAA      83,712,355        2%  2013  \n",
       "2   United Kingdom         LHR/EGLL      72,368,030        3%  2013  \n",
       "3            Japan         HND/RJTT      68,906,636        3%  2013  \n",
       "4    United States         ORD/KORD      66,883,271        0%  2013  "
      ]
     },
     "execution_count": 47,
     "metadata": {},
     "output_type": "execute_result"
    }
   ],
   "source": [
    "# combine all datasets\n",
    "df = df_2013.append([df_2014, df_2015],ignore_index=True)\n",
    "df.head()"
   ]
  },
  {
   "cell_type": "code",
   "execution_count": 48,
   "metadata": {},
   "outputs": [
    {
     "data": {
      "text/plain": [
       "(150, 8)"
      ]
     },
     "execution_count": 48,
     "metadata": {},
     "output_type": "execute_result"
    }
   ],
   "source": [
    "df.shape"
   ]
  },
  {
   "cell_type": "markdown",
   "metadata": {},
   "source": [
    "Some of the country names such as China and US are written differently in datasets. We need to make them all same."
   ]
  },
  {
   "cell_type": "code",
   "execution_count": 49,
   "metadata": {},
   "outputs": [
    {
     "data": {
      "text/plain": [
       "array([' United States', ' China', ' United Kingdom', ' Japan',\n",
       "       ' United Arab Emirates', ' France', ' Indonesia', ' Germany',\n",
       "       ' Singapore', ' Netherlands', ' Thailand', ' Turkey', ' Malaysia',\n",
       "       ' Republic of Korea', ' Spain', ' Australia', ' India', ' Brazil',\n",
       "       ' Italy', ' Canada', ' Philippines', ' Mexico', ' Russia',\n",
       "       'United States', 'China', 'United Kingdom', 'Japan',\n",
       "       'United Arab Emirates', 'France', 'Germany', 'Indonesia', 'Turkey',\n",
       "       'The Netherlands', 'Singapore', 'Malaysia', 'Thailand',\n",
       "       'Republic of Korea', 'Spain', 'Brazil', 'India', 'Australia',\n",
       "       'Canada', 'Italy', 'Taiwan (Republic of China)', 'Mexico',\n",
       "       'Philippines', 'Russia', 'USA',\n",
       "       \"China (People's Republic of China)\", 'Hong Kong, China',\n",
       "       'Netherlands', 'Korea (Rep of Korea)', 'Chinese Taipei'],\n",
       "      dtype=object)"
      ]
     },
     "execution_count": 49,
     "metadata": {},
     "output_type": "execute_result"
    }
   ],
   "source": [
    "df['Country'].unique()"
   ]
  },
  {
   "cell_type": "code",
   "execution_count": 50,
   "metadata": {},
   "outputs": [],
   "source": [
    "df['Country'] = df['Country'].str.strip()\n",
    "df = df.replace(to_replace=\"China (People's Republic of China)\", value='China')\n",
    "df = df.replace(to_replace=' United States', value='USA')\n",
    "df = df.replace(to_replace='United States', value='USA')"
   ]
  },
  {
   "cell_type": "code",
   "execution_count": 51,
   "metadata": {},
   "outputs": [
    {
     "data": {
      "text/plain": [
       "array(['USA', 'China', 'United Kingdom', 'Japan', 'United Arab Emirates',\n",
       "       'France', 'Indonesia', 'Germany', 'Singapore', 'Netherlands',\n",
       "       'Thailand', 'Turkey', 'Malaysia', 'Republic of Korea', 'Spain',\n",
       "       'Australia', 'India', 'Brazil', 'Italy', 'Canada', 'Philippines',\n",
       "       'Mexico', 'Russia', 'The Netherlands',\n",
       "       'Taiwan (Republic of China)', 'Hong Kong, China',\n",
       "       'Korea (Rep of Korea)', 'Chinese Taipei'], dtype=object)"
      ]
     },
     "execution_count": 51,
     "metadata": {},
     "output_type": "execute_result"
    }
   ],
   "source": [
    "df['Country'].unique()"
   ]
  },
  {
   "cell_type": "code",
   "execution_count": 52,
   "metadata": {},
   "outputs": [
    {
     "data": {
      "text/html": [
       "<div>\n",
       "<style scoped>\n",
       "    .dataframe tbody tr th:only-of-type {\n",
       "        vertical-align: middle;\n",
       "    }\n",
       "\n",
       "    .dataframe tbody tr th {\n",
       "        vertical-align: top;\n",
       "    }\n",
       "\n",
       "    .dataframe thead th {\n",
       "        text-align: right;\n",
       "    }\n",
       "</style>\n",
       "<table border=\"1\" class=\"dataframe\">\n",
       "  <thead>\n",
       "    <tr style=\"text-align: right;\">\n",
       "      <th></th>\n",
       "      <th>Rank</th>\n",
       "      <th>Airport</th>\n",
       "      <th>Location</th>\n",
       "      <th>Country</th>\n",
       "      <th>Code (IATA/ICAO)</th>\n",
       "      <th>Total passengers</th>\n",
       "      <th>% change</th>\n",
       "      <th>Year</th>\n",
       "    </tr>\n",
       "  </thead>\n",
       "  <tbody>\n",
       "    <tr>\n",
       "      <th>0</th>\n",
       "      <td>1</td>\n",
       "      <td>Hartsfield–Jackson Atlanta International Airport</td>\n",
       "      <td>Georgia</td>\n",
       "      <td>USA</td>\n",
       "      <td>ATL/KATL</td>\n",
       "      <td>94,430,785</td>\n",
       "      <td>1%</td>\n",
       "      <td>2013</td>\n",
       "    </tr>\n",
       "    <tr>\n",
       "      <th>1</th>\n",
       "      <td>2</td>\n",
       "      <td>Beijing Capital International Airport</td>\n",
       "      <td>Beijing</td>\n",
       "      <td>China</td>\n",
       "      <td>PEK/ZBAA</td>\n",
       "      <td>83,712,355</td>\n",
       "      <td>2%</td>\n",
       "      <td>2013</td>\n",
       "    </tr>\n",
       "    <tr>\n",
       "      <th>2</th>\n",
       "      <td>3</td>\n",
       "      <td>Heathrow Airport</td>\n",
       "      <td>London</td>\n",
       "      <td>United Kingdom</td>\n",
       "      <td>LHR/EGLL</td>\n",
       "      <td>72,368,030</td>\n",
       "      <td>3%</td>\n",
       "      <td>2013</td>\n",
       "    </tr>\n",
       "    <tr>\n",
       "      <th>3</th>\n",
       "      <td>4</td>\n",
       "      <td>Tokyo International Airport</td>\n",
       "      <td>Tokyo</td>\n",
       "      <td>Japan</td>\n",
       "      <td>HND/RJTT</td>\n",
       "      <td>68,906,636</td>\n",
       "      <td>3%</td>\n",
       "      <td>2013</td>\n",
       "    </tr>\n",
       "    <tr>\n",
       "      <th>4</th>\n",
       "      <td>5</td>\n",
       "      <td>O'Hare International Airport</td>\n",
       "      <td>Illinois</td>\n",
       "      <td>USA</td>\n",
       "      <td>ORD/KORD</td>\n",
       "      <td>66,883,271</td>\n",
       "      <td>0%</td>\n",
       "      <td>2013</td>\n",
       "    </tr>\n",
       "    <tr>\n",
       "      <th>...</th>\n",
       "      <td>...</td>\n",
       "      <td>...</td>\n",
       "      <td>...</td>\n",
       "      <td>...</td>\n",
       "      <td>...</td>\n",
       "      <td>...</td>\n",
       "      <td>...</td>\n",
       "      <td>...</td>\n",
       "    </tr>\n",
       "    <tr>\n",
       "      <th>65</th>\n",
       "      <td>16</td>\n",
       "      <td>Singapore Changi Airport</td>\n",
       "      <td>Changi</td>\n",
       "      <td>Singapore</td>\n",
       "      <td>SIN/WSSS</td>\n",
       "      <td>54,091,802</td>\n",
       "      <td>0.7%</td>\n",
       "      <td>2014</td>\n",
       "    </tr>\n",
       "    <tr>\n",
       "      <th>66</th>\n",
       "      <td>17</td>\n",
       "      <td>John F. Kennedy International Airport</td>\n",
       "      <td>Queens, New York City, New York</td>\n",
       "      <td>USA</td>\n",
       "      <td>JFK/KJFK</td>\n",
       "      <td>53,635,346</td>\n",
       "      <td>6.4%</td>\n",
       "      <td>2014</td>\n",
       "    </tr>\n",
       "    <tr>\n",
       "      <th>67</th>\n",
       "      <td>18</td>\n",
       "      <td>Denver International Airport</td>\n",
       "      <td>Denver, Colorado</td>\n",
       "      <td>USA</td>\n",
       "      <td>DEN/KDEN</td>\n",
       "      <td>53,472,514</td>\n",
       "      <td>1.7%</td>\n",
       "      <td>2014</td>\n",
       "    </tr>\n",
       "    <tr>\n",
       "      <th>68</th>\n",
       "      <td>19</td>\n",
       "      <td>Shanghai Pudong International Airport</td>\n",
       "      <td>Pudong, Shanghai</td>\n",
       "      <td>China</td>\n",
       "      <td>PVG/ZSPD</td>\n",
       "      <td>51,651,800</td>\n",
       "      <td>9.5%</td>\n",
       "      <td>2014</td>\n",
       "    </tr>\n",
       "    <tr>\n",
       "      <th>69</th>\n",
       "      <td>20</td>\n",
       "      <td>Kuala Lumpur International Airport</td>\n",
       "      <td>Sepang, Selangor</td>\n",
       "      <td>Malaysia</td>\n",
       "      <td>KUL/WMKK</td>\n",
       "      <td>48,932,471</td>\n",
       "      <td>3.0%</td>\n",
       "      <td>2014</td>\n",
       "    </tr>\n",
       "  </tbody>\n",
       "</table>\n",
       "<p>70 rows × 8 columns</p>\n",
       "</div>"
      ],
      "text/plain": [
       "    Rank                                           Airport  \\\n",
       "0      1  Hartsfield–Jackson Atlanta International Airport   \n",
       "1      2             Beijing Capital International Airport   \n",
       "2      3                                  Heathrow Airport   \n",
       "3      4                       Tokyo International Airport   \n",
       "4      5                      O'Hare International Airport   \n",
       "..   ...                                               ...   \n",
       "65    16                          Singapore Changi Airport   \n",
       "66    17             John F. Kennedy International Airport   \n",
       "67    18                      Denver International Airport   \n",
       "68    19             Shanghai Pudong International Airport   \n",
       "69    20                Kuala Lumpur International Airport   \n",
       "\n",
       "                           Location         Country Code (IATA/ICAO)  \\\n",
       "0                           Georgia             USA         ATL/KATL   \n",
       "1                           Beijing           China         PEK/ZBAA   \n",
       "2                            London  United Kingdom         LHR/EGLL   \n",
       "3                             Tokyo           Japan         HND/RJTT   \n",
       "4                          Illinois             USA         ORD/KORD   \n",
       "..                              ...             ...              ...   \n",
       "65                           Changi       Singapore         SIN/WSSS   \n",
       "66  Queens, New York City, New York             USA         JFK/KJFK   \n",
       "67                 Denver, Colorado             USA         DEN/KDEN   \n",
       "68                 Pudong, Shanghai           China         PVG/ZSPD   \n",
       "69                 Sepang, Selangor        Malaysia         KUL/WMKK   \n",
       "\n",
       "   Total passengers % change  Year  \n",
       "0       94,430,785        1%  2013  \n",
       "1       83,712,355        2%  2013  \n",
       "2       72,368,030        3%  2013  \n",
       "3       68,906,636        3%  2013  \n",
       "4       66,883,271        0%  2013  \n",
       "..              ...      ...   ...  \n",
       "65      54,091,802      0.7%  2014  \n",
       "66      53,635,346      6.4%  2014  \n",
       "67      53,472,514      1.7%  2014  \n",
       "68      51,651,800      9.5%  2014  \n",
       "69      48,932,471      3.0%  2014  \n",
       "\n",
       "[70 rows x 8 columns]"
      ]
     },
     "execution_count": 52,
     "metadata": {},
     "output_type": "execute_result"
    }
   ],
   "source": [
    "df.head(70)"
   ]
  },
  {
   "cell_type": "markdown",
   "metadata": {},
   "source": [
    "Check the types of data in each column. Total passengers column should be numeric. First, we need to remove commas then change data type."
   ]
  },
  {
   "cell_type": "code",
   "execution_count": 53,
   "metadata": {},
   "outputs": [
    {
     "data": {
      "text/plain": [
       "Rank                 int64\n",
       "Airport             object\n",
       "Location            object\n",
       "Country             object\n",
       "Code (IATA/ICAO)    object\n",
       "Total passengers    object\n",
       "% change            object\n",
       "Year                 int64\n",
       "dtype: object"
      ]
     },
     "execution_count": 53,
     "metadata": {},
     "output_type": "execute_result"
    }
   ],
   "source": [
    "df.dtypes"
   ]
  },
  {
   "cell_type": "code",
   "execution_count": 54,
   "metadata": {},
   "outputs": [
    {
     "data": {
      "text/plain": [
       "Rank                 int64\n",
       "Airport             object\n",
       "Location            object\n",
       "Country             object\n",
       "Code (IATA/ICAO)    object\n",
       "Total passengers     int64\n",
       "% change            object\n",
       "Year                 int64\n",
       "dtype: object"
      ]
     },
     "execution_count": 54,
     "metadata": {},
     "output_type": "execute_result"
    }
   ],
   "source": [
    "df['Total passengers']=df['Total passengers'].str.replace(',','')\n",
    "df['Total passengers']=df['Total passengers'].astype(int)\n",
    "df.dtypes"
   ]
  },
  {
   "cell_type": "markdown",
   "metadata": {},
   "source": [
    "Lastly, check for null cells."
   ]
  },
  {
   "cell_type": "code",
   "execution_count": 55,
   "metadata": {},
   "outputs": [
    {
     "data": {
      "text/plain": [
       "False"
      ]
     },
     "execution_count": 55,
     "metadata": {},
     "output_type": "execute_result"
    }
   ],
   "source": [
    "df.isnull().values.any()"
   ]
  },
  {
   "cell_type": "markdown",
   "metadata": {},
   "source": [
    "### Analysis of Data"
   ]
  },
  {
   "cell_type": "code",
   "execution_count": 58,
   "metadata": {},
   "outputs": [
    {
     "data": {
      "text/html": [
       "<div>\n",
       "<style scoped>\n",
       "    .dataframe tbody tr th:only-of-type {\n",
       "        vertical-align: middle;\n",
       "    }\n",
       "\n",
       "    .dataframe tbody tr th {\n",
       "        vertical-align: top;\n",
       "    }\n",
       "\n",
       "    .dataframe thead th {\n",
       "        text-align: right;\n",
       "    }\n",
       "</style>\n",
       "<table border=\"1\" class=\"dataframe\">\n",
       "  <thead>\n",
       "    <tr style=\"text-align: right;\">\n",
       "      <th></th>\n",
       "      <th>Year</th>\n",
       "      <th>Country</th>\n",
       "      <th>Rank</th>\n",
       "    </tr>\n",
       "  </thead>\n",
       "  <tbody>\n",
       "    <tr>\n",
       "      <th>0</th>\n",
       "      <td>2013</td>\n",
       "      <td>Australia</td>\n",
       "      <td>1</td>\n",
       "    </tr>\n",
       "    <tr>\n",
       "      <th>1</th>\n",
       "      <td>2013</td>\n",
       "      <td>Brazil</td>\n",
       "      <td>1</td>\n",
       "    </tr>\n",
       "    <tr>\n",
       "      <th>2</th>\n",
       "      <td>2013</td>\n",
       "      <td>Canada</td>\n",
       "      <td>1</td>\n",
       "    </tr>\n",
       "    <tr>\n",
       "      <th>3</th>\n",
       "      <td>2013</td>\n",
       "      <td>China</td>\n",
       "      <td>7</td>\n",
       "    </tr>\n",
       "    <tr>\n",
       "      <th>4</th>\n",
       "      <td>2013</td>\n",
       "      <td>France</td>\n",
       "      <td>1</td>\n",
       "    </tr>\n",
       "    <tr>\n",
       "      <th>...</th>\n",
       "      <td>...</td>\n",
       "      <td>...</td>\n",
       "      <td>...</td>\n",
       "    </tr>\n",
       "    <tr>\n",
       "      <th>66</th>\n",
       "      <td>2015</td>\n",
       "      <td>Thailand</td>\n",
       "      <td>1</td>\n",
       "    </tr>\n",
       "    <tr>\n",
       "      <th>67</th>\n",
       "      <td>2015</td>\n",
       "      <td>Turkey</td>\n",
       "      <td>1</td>\n",
       "    </tr>\n",
       "    <tr>\n",
       "      <th>68</th>\n",
       "      <td>2015</td>\n",
       "      <td>USA</td>\n",
       "      <td>16</td>\n",
       "    </tr>\n",
       "    <tr>\n",
       "      <th>69</th>\n",
       "      <td>2015</td>\n",
       "      <td>United Arab Emirates</td>\n",
       "      <td>1</td>\n",
       "    </tr>\n",
       "    <tr>\n",
       "      <th>70</th>\n",
       "      <td>2015</td>\n",
       "      <td>United Kingdom</td>\n",
       "      <td>2</td>\n",
       "    </tr>\n",
       "  </tbody>\n",
       "</table>\n",
       "<p>71 rows × 3 columns</p>\n",
       "</div>"
      ],
      "text/plain": [
       "    Year               Country  Rank\n",
       "0   2013             Australia     1\n",
       "1   2013                Brazil     1\n",
       "2   2013                Canada     1\n",
       "3   2013                 China     7\n",
       "4   2013                France     1\n",
       "..   ...                   ...   ...\n",
       "66  2015              Thailand     1\n",
       "67  2015                Turkey     1\n",
       "68  2015                   USA    16\n",
       "69  2015  United Arab Emirates     1\n",
       "70  2015        United Kingdom     2\n",
       "\n",
       "[71 rows x 3 columns]"
      ]
     },
     "execution_count": 58,
     "metadata": {},
     "output_type": "execute_result"
    }
   ],
   "source": [
    "df_2 = df.groupby(['Year','Country'])['Rank'].count().reset_index()\n",
    "df_2"
   ]
  },
  {
   "cell_type": "code",
   "execution_count": null,
   "metadata": {},
   "outputs": [],
   "source": []
  }
 ],
 "metadata": {
  "kernelspec": {
   "display_name": "Python 3",
   "language": "python",
   "name": "python3"
  },
  "language_info": {
   "codemirror_mode": {
    "name": "ipython",
    "version": 3
   },
   "file_extension": ".py",
   "mimetype": "text/x-python",
   "name": "python",
   "nbconvert_exporter": "python",
   "pygments_lexer": "ipython3",
   "version": "3.7.3"
  }
 },
 "nbformat": 4,
 "nbformat_minor": 4
}
